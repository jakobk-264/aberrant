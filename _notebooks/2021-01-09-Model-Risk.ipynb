{
 "cells": [
  {
   "cell_type": "markdown",
   "metadata": {},
   "source": [
    "# \"Data Science: Models, Risk, and Model Risk\"\n",
    "> \"With great power comes great responsibility - a case for the value of model risk management.\"\n",
    "\n",
    "- toc: false\n",
    "- branch: master\n",
    "- badges: true\n",
    "- comments: true\n",
    "- categories: [basics, model risk]\n",
    "- image: images/2021-01-09-Model-Risk.jpg\n",
    "- hide: false\n",
    "- search_exclude: true\n",
    "- metadata_key1: metadata_value1\n",
    "- metadata_key2: metadata_value2"
   ]
  },
  {
   "cell_type": "markdown",
   "metadata": {},
   "source": [
    "The opportunities of AI, machine learning, and data science are endless. __add footnote about interchangeable wording__ They help make our lives easier, bring our society forward, and help solve the complex problems of today's world. With the opportunities that data science and all its related disciplines bring, it's only natural that AI and machine learning penetrate deeper into our daily routines. There is no doubt in my mind that they help us - individually and as a society. To see the benefit data science can bring to society, think about the purpose of supermarkets - ensuring that people have easy and affordable access to most basic necessities. Then think about the complexity of managing a supermarket's supply chain - making sure that stocks never run out, while goods needs to be transported over several hundred kilometer and potentially perish. Since models ensure that supermarkets provide their essential service to society, this example sounds like the perfect use case to display the benefit of machine learning and AI.\n",
    "\n",
    "Hello and welcome to my first post\n",
    "\n",
    "*Risk* is defined as the variability of unexpected losses. {% cite crouhy_risk_management -l 9-11 %}"
   ]
  },
  {
   "cell_type": "markdown",
   "metadata": {},
   "source": [
    "{% bibliography --cited %}"
   ]
  },
  {
   "cell_type": "code",
   "execution_count": null,
   "metadata": {},
   "outputs": [],
   "source": []
  }
 ],
 "metadata": {
  "kernelspec": {
   "display_name": "Python 3",
   "language": "python",
   "name": "python3"
  },
  "language_info": {
   "codemirror_mode": {
    "name": "ipython",
    "version": 3
   },
   "file_extension": ".py",
   "mimetype": "text/x-python",
   "name": "python",
   "nbconvert_exporter": "python",
   "pygments_lexer": "ipython3",
   "version": "3.7.6"
  }
 },
 "nbformat": 4,
 "nbformat_minor": 4
}
