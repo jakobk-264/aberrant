{
 "cells": [
  {
   "cell_type": "markdown",
   "metadata": {},
   "source": [
    "# \"Data Science: Models, Risk, and Model Risk\"\n",
    "> \"With great power comes great responsibility - a case for the value of model risk management.\"\n",
    "\n",
    "- toc: false\n",
    "- branch: master\n",
    "- badges: true\n",
    "- comments: true\n",
    "- categories: [basics, risk, model risk]\n",
    "- image: images/2021-01-09-Model-Risk.jpg\n",
    "- hide: false\n",
    "- search_exclude: true\n",
    "- metadata_key1: metadata_value1\n",
    "- metadata_key2: metadata_value2"
   ]
  },
  {
   "cell_type": "markdown",
   "metadata": {},
   "source": [
    "The opportunities of AI, machine learning, and data science are endless.{% fn 1 %} They help make our lives easier and help solve the complex problems of today's world. With the opportunities that data science and all its related disciplines bring, it's only natural that AI and machine learning penetrate deeper into our daily lives. There is no doubt in my mind that they help us - individually and as a society. To see the benefit data science can bring to society, think about the purpose of supermarkets - ensuring that people have easy and affordable access to most basic necessities. Then think about the complexity of managing a supermarket's supply chain - making sure that stocks never run out, while goods needs to be transported over several hundred kilometer and potentially perish. Since models ensure that supermarkets provide their essential service to society, it is obvious to ask:\n",
    "* How likely is it that the model will make a prediction e.g. orders too many or too few items to restock)? \n",
    "* What are the consequences when the model makes a wrong prediction?\n",
    "\n",
    "These questions are at the heart of model risk management, and in this blog article I lay the foundation why Model Risk deserves to be a separate risk type to be managed (i.e. not just a sub-risk of operational risk). In future blog article I will delve into detailed model risk management questions and try to answer them. \n",
    "\n",
    "My aim is to create awareness that the benefits that come from models - whether classic regression or advanced machine learning models - also entail risk. And whether you're a data scientist, risk manager, or decision maker, it is important how to assess these model risks. Only if the risks are assessed you can make an informed decision whether the model benefits justify the risk and how the risk should be managed."
   ]
  },
  {
   "cell_type": "markdown",
   "metadata": {},
   "source": [
    "# Models\n",
    "\n",
    "Normally, anyone involved in data science has a good intuitive definition of the term _model_. Personally, I prefer to use the US Federal Reserve's definition of _model_ whenever I require a formal definition (e.g. when discussing whether a particual process qualifies as a model):\n",
    "\n",
    "\"[...] the term model refers to a quantitative method, system, or approach that applies statistical, economic, financial, or mathematical theories, techniques, and assumptions to process input data into quantitative estimates. \" {% cite sr_11-7 %}\n",
    "\n",
    "Naturally all common data science models use this definition. In later articles I hope to utilise several different model types to highlight model risks:{% fn 2 %} \n",
    "* [Linear Regression](https://machinelearningmastery.com/linear-regression-for-machine-learning/)"
   ]
  },
  {
   "cell_type": "markdown",
   "metadata": {},
   "source": [
    "# Risk\n",
    "\n",
    "*Risk* is defined as the variability of unexpected losses. {% cite crouhy_risk_management -l 9-11 %}"
   ]
  },
  {
   "cell_type": "markdown",
   "metadata": {},
   "source": [
    "# Model Risk\n",
    "\n",
    "**description of model risk as a concept**"
   ]
  },
  {
   "cell_type": "markdown",
   "metadata": {},
   "source": [
    "# References\n",
    "\n",
    "{% bibliography --cited %}"
   ]
  },
  {
   "cell_type": "markdown",
   "metadata": {},
   "source": [
    "# Footnotes\n",
    "\n",
    "{{ 'While data science, machine learning, and AI are separate concepts with only partial overlaps and other clear distinctions I will use these terms interchangeably throughout this blog post. While I might note my thoughts on the differences between these 3 terms in a future blog post, I would refer to [Google](https://www.google.com/search?q=data+science+machine+learning+artificial+intelligence) for the time being.' | fndetail: 1 }}\n",
    "\n",
    "{{ ' Until I actually write about any of these models, I will refer to general sources that give a short introduction to the model type.' | fndetail: 2 }}"
   ]
  },
  {
   "cell_type": "markdown",
   "metadata": {},
   "source": [
    "# Other Credits\n",
    "\n",
    "Article Preview photo by [el pepe](https://unsplash.com/@elpepe?utm_source=unsplash&amp;utm_medium=referral&amp;utm_content=creditCopyText)"
   ]
  }
 ],
 "metadata": {
  "kernelspec": {
   "display_name": "Python 3",
   "language": "python",
   "name": "python3"
  },
  "language_info": {
   "codemirror_mode": {
    "name": "ipython",
    "version": 3
   },
   "file_extension": ".py",
   "mimetype": "text/x-python",
   "name": "python",
   "nbconvert_exporter": "python",
   "pygments_lexer": "ipython3",
   "version": "3.7.6"
  }
 },
 "nbformat": 4,
 "nbformat_minor": 4
}
